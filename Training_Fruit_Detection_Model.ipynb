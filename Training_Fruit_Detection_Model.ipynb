{
  "nbformat": 4,
  "nbformat_minor": 0,
  "metadata": {
    "colab": {
      "provenance": [],
      "authorship_tag": "ABX9TyMbjZ/urTdsXrFQqNgoF83y",
      "include_colab_link": true
    },
    "kernelspec": {
      "name": "python3",
      "display_name": "Python 3"
    },
    "language_info": {
      "name": "python"
    },
    "gpuClass": "standard",
    "accelerator": "GPU"
  },
  "cells": [
    {
      "cell_type": "markdown",
      "metadata": {
        "id": "view-in-github",
        "colab_type": "text"
      },
      "source": [
        "<a href=\"https://colab.research.google.com/github/FevinFelix/Recipe-Suggestions-with-Fruit-Object-Detection/blob/master/Training_Fruit_Detection_Model.ipynb\" target=\"_parent\"><img src=\"https://colab.research.google.com/assets/colab-badge.svg\" alt=\"Open In Colab\"/></a>"
      ]
    },
    {
      "cell_type": "markdown",
      "source": [
        "#Prepare notebook by configuring settings and installing dependencies"
      ],
      "metadata": {
        "id": "Zv8cVwIDYzuf"
      }
    },
    {
      "cell_type": "code",
      "source": [
        "import locale\n",
        "def getpreferredencoding(do_setlocale = True):\n",
        "    return \"UTF-8\"\n",
        "locale.getpreferredencoding = getpreferredencoding\n",
        "\n",
        "!pip install ultralytics\n",
        "!pip install roboflow\n",
        "from ultralytics import YOLO\n",
        "from roboflow import Roboflow"
      ],
      "metadata": {
        "id": "6VB5zC1XGPem"
      },
      "execution_count": null,
      "outputs": []
    },
    {
      "cell_type": "markdown",
      "source": [
        "# Download the dataset of images in a Yolov8 compatible format"
      ],
      "metadata": {
        "id": "izKIvlNgZTZw"
      }
    },
    {
      "cell_type": "code",
      "source": [
        "rf = Roboflow(api_key=\"YOUR_API_KEY\")\n",
        "project = rf.workspace(\"food-detection-dataset\").project(\"common-fruits-detection\")\n",
        "dataset = project.version(10).download(\"yolov8\")"
      ],
      "metadata": {
        "id": "h3g_ES4V92q6"
      },
      "execution_count": null,
      "outputs": []
    },
    {
      "cell_type": "markdown",
      "source": [
        "# ***At this point, go into the data.yaml file in the downloaded dataset folder and change the paths for \"test:\", \"train:\", and \"val:\" to absolute paths.***"
      ],
      "metadata": {
        "id": "dKWCk8JSZxO1"
      }
    },
    {
      "cell_type": "markdown",
      "source": [
        "# Import a partially trained model to assist in transfer learning when training new model. Train the model on the dataset for approximately 100 epochs (will likely stop far earlier)"
      ],
      "metadata": {
        "id": "QqstgGRVZJnG"
      }
    },
    {
      "cell_type": "code",
      "source": [
        "model = YOLO(\"yolov8n.pt\")\n",
        "model.train(data=\"./common-fruits-detection-10/data.yaml\", epochs=100)  # train the model"
      ],
      "metadata": {
        "id": "JFJ4xdGU93IL"
      },
      "execution_count": null,
      "outputs": []
    },
    {
      "cell_type": "markdown",
      "source": [
        "#Once training has completed you may test the model using a random image by placing the image in the current project directory and modifying the command below.\n",
        "\n",
        "#The annotated image with predictions can be viewed by going to runs/detect/predict (a newly created folder)."
      ],
      "metadata": {
        "id": "2Evl0dpfbJDW"
      }
    },
    {
      "cell_type": "code",
      "source": [
        "model.predict(source=\"ABSOLUTE_PATH_HERE\", save=True)"
      ],
      "metadata": {
        "id": "R4g8bnUdbeaT"
      },
      "execution_count": null,
      "outputs": []
    },
    {
      "cell_type": "markdown",
      "source": [
        "#Finally, export the model in .torchscript and .pt formats using the command below. The file named \"best.pt\" will be the trained model you want to import in future training if you wish to improve your custom model."
      ],
      "metadata": {
        "id": "KaOCWW6rcUBR"
      }
    },
    {
      "cell_type": "code",
      "source": [
        "model.export()"
      ],
      "metadata": {
        "colab": {
          "base_uri": "https://localhost:8080/",
          "height": 276
        },
        "id": "LeYe9XdaDSrT",
        "outputId": "bac8dc8e-8751-4ae6-8ccd-5813f9ee67f9"
      },
      "execution_count": null,
      "outputs": [
        {
          "output_type": "stream",
          "name": "stderr",
          "text": [
            "Ultralytics YOLOv8.0.52 🚀 Python-3.9.16 torch-1.13.1+cu116 CPU\n",
            "Model summary (fused): 168 layers, 3006623 parameters, 0 gradients, 8.1 GFLOPs\n",
            "\n",
            "\u001b[34m\u001b[1mPyTorch:\u001b[0m starting from runs/detect/train3/weights/best.pt with input shape (1, 3, 640, 640) BCHW and output shape(s) (1, 9, 8400) (5.9 MB)\n",
            "\n",
            "\u001b[34m\u001b[1mTorchScript:\u001b[0m starting export with torch 1.13.1+cu116...\n",
            "\u001b[34m\u001b[1mTorchScript:\u001b[0m export success ✅ 1.8s, saved as runs/detect/train3/weights/best.torchscript (11.9 MB)\n",
            "\n",
            "Export complete (2.3s)\n",
            "Results saved to \u001b[1m/content/runs/detect/train3/weights\u001b[0m\n",
            "Predict:         yolo predict task=detect model=runs/detect/train3/weights/best.torchscript imgsz=640 \n",
            "Validate:        yolo val task=detect model=runs/detect/train3/weights/best.torchscript imgsz=640 data=./common-fruits-detection-10/data.yaml \n",
            "Visualize:       https://netron.app\n"
          ]
        },
        {
          "output_type": "execute_result",
          "data": {
            "text/plain": [
              "'runs/detect/train3/weights/best.torchscript'"
            ],
            "application/vnd.google.colaboratory.intrinsic+json": {
              "type": "string"
            }
          },
          "metadata": {},
          "execution_count": 7
        }
      ]
    }
  ]
}